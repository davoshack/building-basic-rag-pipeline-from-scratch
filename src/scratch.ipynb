{
 "cells": [
  {
   "cell_type": "code",
   "execution_count": 1,
   "metadata": {},
   "outputs": [],
   "source": [
    "import os\n",
    "from basic_rag_utils.helper import get_openai_api_key, get_gemini_api_key\n",
    "# Set the \"OPENAI_API_KEY\" in the Python environment. Will be used by OpenAI client later.\n",
    "OPENAI_API_KEY = get_openai_api_key()\n",
    "GEMINI_API_KEY = get_gemini_api_key()"
   ]
  },
  {
   "cell_type": "code",
   "execution_count": null,
   "metadata": {},
   "outputs": [],
   "source": [
    "# False: Generate the embedding for the dataset. (Associated cost with using OpenAI endpoint)\n",
    "# True: Load the dataset that already has the embedding vectors.\n",
    "load_embedding = False"
   ]
  }
 ],
 "metadata": {
  "kernelspec": {
   "display_name": "building-basic-rag-pipeline-from-scratch",
   "language": "python",
   "name": "python3"
  },
  "language_info": {
   "codemirror_mode": {
    "name": "ipython",
    "version": 3
   },
   "file_extension": ".py",
   "mimetype": "text/x-python",
   "name": "python",
   "nbconvert_exporter": "python",
   "pygments_lexer": "ipython3",
   "version": "3.12.0"
  }
 },
 "nbformat": 4,
 "nbformat_minor": 2
}
